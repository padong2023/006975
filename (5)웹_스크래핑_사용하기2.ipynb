{
  "nbformat": 4,
  "nbformat_minor": 0,
  "metadata": {
    "colab": {
      "provenance": [],
      "authorship_tag": "ABX9TyOvhkC3tZdjE3cpkicHy0S/",
      "include_colab_link": true
    },
    "kernelspec": {
      "name": "python3",
      "display_name": "Python 3"
    },
    "language_info": {
      "name": "python"
    }
  },
  "cells": [
    {
      "cell_type": "markdown",
      "metadata": {
        "id": "view-in-github",
        "colab_type": "text"
      },
      "source": [
        "<a href=\"https://colab.research.google.com/github/padong2023/006975/blob/master/(5)%EC%9B%B9_%EC%8A%A4%ED%81%AC%EB%9E%98%ED%95%91_%EC%82%AC%EC%9A%A9%ED%95%98%EA%B8%B02.ipynb\" target=\"_parent\"><img src=\"https://colab.research.google.com/assets/colab-badge.svg\" alt=\"Open In Colab\"/></a>"
      ]
    },
    {
      "cell_type": "code",
      "execution_count": 1,
      "metadata": {
        "id": "m96ajHZiGG4C"
      },
      "outputs": [],
      "source": [
        "import requests\n",
        "isbn = '9791190090018'\n",
        "url = 'https://www.yes24.com/Product/Search?domain=BOOK&query={}'\n",
        "r=requests.get(url.format(isbn))"
      ]
    },
    {
      "cell_type": "code",
      "source": [
        "print(r.text)"
      ],
      "metadata": {
        "id": "hmxM8PGFIRCW"
      },
      "execution_count": null,
      "outputs": []
    },
    {
      "cell_type": "code",
      "source": [
        "from bs4 import BeautifulSoup\n",
        "soup = BeautifulSoup(r.text, 'html.parser')"
      ],
      "metadata": {
        "id": "uDsmULBlX0yr"
      },
      "execution_count": 3,
      "outputs": []
    },
    {
      "cell_type": "code",
      "source": [
        "# 위 검색 결과의 도서 가져오기\n",
        "prd_link = soup.find('a', attrs={'class':'gd_name'})\n",
        "print(prd_link)"
      ],
      "metadata": {
        "id": "PGgx9KuuYQWv",
        "colab": {
          "base_uri": "https://localhost:8080/"
        },
        "outputId": "caf3e566-93d2-4b78-ea89-36351f007855"
      },
      "execution_count": 4,
      "outputs": [
        {
          "output_type": "stream",
          "name": "stdout",
          "text": [
            "<a class=\"gd_name\" href=\"/Product/Goods/74261416\" onclick=\"wiseLogV2('S', '101_005_003_001', ''); setGoodsClickExtraCodeHub('032', '9791190090018', '74261416', '0');\">우리가 빛의 속도로 갈 수 없다면</a>\n"
          ]
        }
      ]
    },
    {
      "cell_type": "code",
      "source": [
        "print(prd_link['href'])"
      ],
      "metadata": {
        "id": "J_q2_8wGZ8N8",
        "colab": {
          "base_uri": "https://localhost:8080/"
        },
        "outputId": "6c41e061-458b-440a-a27e-769e6a69e1a6"
      },
      "execution_count": 5,
      "outputs": [
        {
          "output_type": "stream",
          "name": "stdout",
          "text": [
            "/Product/Goods/74261416\n"
          ]
        }
      ]
    },
    {
      "cell_type": "code",
      "source": [
        "url = 'https://www.yes24.com'+prd_link['href']\n",
        "r=requests.get(url)"
      ],
      "metadata": {
        "id": "AEUahfSkaA1k"
      },
      "execution_count": 6,
      "outputs": []
    },
    {
      "cell_type": "code",
      "source": [
        "print(r.text)"
      ],
      "metadata": {
        "id": "KlYyXCLvaQuG"
      },
      "execution_count": null,
      "outputs": []
    },
    {
      "cell_type": "code",
      "source": [
        "soup = BeautifulSoup(r.text, 'html.parser')   # 상세페이지의 파싱\n",
        "pro_detail = soup.find('div', attrs={'id':'infoset_specific'})\n",
        "#pro_detail_2 = soupo.find('table', attrs={'class':'tb_nor tb_vertical'})\n",
        "print(pro_detail)"
      ],
      "metadata": {
        "id": "zz3AiG2z7aC3"
      },
      "execution_count": null,
      "outputs": []
    },
    {
      "cell_type": "code",
      "source": [
        "prd_tr_list = pro_detail.find_all('tr')\n",
        "print(prd_tr_list)"
      ],
      "metadata": {
        "id": "dDeeanKK72RG"
      },
      "execution_count": null,
      "outputs": []
    },
    {
      "cell_type": "code",
      "source": [
        "# 쪽, 무게, 크기 가져오기\n",
        "for tr in prd_tr_list:\n",
        "  if tr.find('th').get_text() == '쪽수, 무게, 크기':\n",
        "    page_td = tr.find('td').get_text()\n",
        "    break"
      ],
      "metadata": {
        "id": "uJfVxRXl8UpE"
      },
      "execution_count": 10,
      "outputs": []
    },
    {
      "cell_type": "code",
      "source": [
        "print(page_td)"
      ],
      "metadata": {
        "id": "tuz5I6iO8oSV",
        "colab": {
          "base_uri": "https://localhost:8080/"
        },
        "outputId": "cddb5964-c18f-4b36-c8f7-97577c10867b"
      },
      "execution_count": 11,
      "outputs": [
        {
          "output_type": "stream",
          "name": "stdout",
          "text": [
            "330쪽 | 496g | 130*198*30mm\n"
          ]
        }
      ]
    },
    {
      "cell_type": "code",
      "source": [
        "print(page_td.split()[0])"
      ],
      "metadata": {
        "id": "vc2tbaZC8y0f",
        "colab": {
          "base_uri": "https://localhost:8080/"
        },
        "outputId": "edff57db-8249-4db6-a2d6-e1587d53bc5f"
      },
      "execution_count": 12,
      "outputs": [
        {
          "output_type": "stream",
          "name": "stdout",
          "text": [
            "330쪽\n"
          ]
        }
      ]
    },
    {
      "cell_type": "code",
      "source": [
        "#### 위의 코드를 사용자 정의 함수로 만들기 ####\n",
        "\n",
        "def get_page_cnt(isbn):\n",
        "  url = 'https://www.yes24.com/Product/Search?domain=BOOK&query={}'\n",
        "\n",
        "  # URL에 isbn을 넣어 HTML 가져옴\n",
        "  r = requests.get(url.format(isbn))\n",
        "  soup = BeautifulSoup(r.text, 'html.parser')   #파싱\n",
        "\n",
        "  # 검색 결과에서 해당 도서 선택\n",
        "  prd_info = soup.find('a', attrs={'class':'gd_name'})\n",
        "\n",
        "  # 도서 상세 페이지 가져오기\n",
        "  url = 'http://www.yes24.com'+prd_info['href']\n",
        "  r= requests.get(url)\n",
        "  soup = BeautifulSoup(r.text, 'html.parser')\n",
        "\n",
        "  # 품목정보 <div>를 선택\n",
        "  prd_detail = soup.find('div', attrs={'id':'infoset_specific'})\n",
        "\n",
        "  # 테이블에 있는 <tr> 태그 가져오기\n",
        "  prd_tr_list = prd_detail.find_all('tr')\n",
        "\n",
        "  # 쪽수가 들어 있는 <th>를 찾아 <td>에 담긴 값을 반환\n",
        "  for tr in prd_tr_list:\n",
        "    if tr.find('th').get_text() == '쪽수, 무게, 크기':\n",
        "      return tr.find('td').get_text().split()[0]\n",
        "  return ''"
      ],
      "metadata": {
        "id": "3TOFRt2A8-n7"
      },
      "execution_count": null,
      "outputs": []
    },
    {
      "cell_type": "code",
      "source": [
        "get_page_cnt(9791190090018)"
      ],
      "metadata": {
        "id": "g8MpCHTQ_Rcd"
      },
      "execution_count": null,
      "outputs": []
    },
    {
      "cell_type": "code",
      "source": [
        "# 20대가 가장 좋아하는 도서 찾기 -> API사용하기 소스코드에서 가져오기\n",
        "\n",
        "import requests\n",
        "url = \"http://data4library.kr/api/loanItemSrch?format=json&startDt=2021-04-01&endDt=2021-04-30&age=20&authKey=85b8722cf86271659f020f7c66208903856a4e95cb5e6630ce8d2cedeac3c15a\"\n",
        "\n",
        "r=requests.get(url)\n",
        "\n",
        "data=r.json()\n",
        "\n",
        "books = []\n",
        "for d in data['response']['docs']:\n",
        "  books.append(d['doc'])"
      ],
      "metadata": {
        "id": "N8uX7H0wARpT"
      },
      "execution_count": null,
      "outputs": []
    },
    {
      "cell_type": "code",
      "source": [
        "import pandas as pd\n",
        "books_df = pd.DataFrame(books)\n",
        "books_df"
      ],
      "metadata": {
        "id": "wtUACYopAnRN"
      },
      "execution_count": null,
      "outputs": []
    },
    {
      "cell_type": "code",
      "source": [
        "# joson 파일로 저장하기\n",
        "books_df.to_json('20s_best_book.json')"
      ],
      "metadata": {
        "id": "LsSAvSEgBojd"
      },
      "execution_count": null,
      "outputs": []
    },
    {
      "cell_type": "code",
      "source": [
        "top5_book = books_df.head(5)\n",
        "top5_book"
      ],
      "metadata": {
        "id": "Xzzdq3DL_ixj"
      },
      "execution_count": null,
      "outputs": []
    },
    {
      "cell_type": "code",
      "source": [
        "# isbn13의 값을 전달하는 사용자 정의 함수 만들기\n",
        "def get_page_cnt2(row):\n",
        "  isbn = row['isbn13']\n",
        "  return get_page_cnt(isbn)"
      ],
      "metadata": {
        "id": "Nyk1U0PM_iqm"
      },
      "execution_count": null,
      "outputs": []
    },
    {
      "cell_type": "code",
      "source": [
        "page_count = top5_book.apply(get_page_cnt2, axis=1)    #axis의 값이 '0'이면 행, '1'이면 열에 적용됨\n",
        "print(page_count)"
      ],
      "metadata": {
        "id": "aEvXMn8tCfFG"
      },
      "execution_count": null,
      "outputs": []
    },
    {
      "cell_type": "code",
      "source": [
        "# page_count 시리즈 객체 이름 만들어주기\n",
        "page_count.name = 'page_count'\n",
        "print(page_count)"
      ],
      "metadata": {
        "id": "jRBRAjc2Co_6"
      },
      "execution_count": null,
      "outputs": []
    },
    {
      "cell_type": "code",
      "source": [
        "# 데이터프레임과 시리즈 합치기 : merge()함수\n",
        "top5_with_page_count = pd.merge(top5_book, page_count,\n",
        "                                left_index=True, right_index=True)\n",
        "top5_with_page_count"
      ],
      "metadata": {
        "id": "aDEzAvdhCE3A"
      },
      "execution_count": null,
      "outputs": []
    }
  ]
}